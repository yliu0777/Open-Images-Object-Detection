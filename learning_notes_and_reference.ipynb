{
 "cells": [
  {
   "cell_type": "markdown",
   "metadata": {},
   "source": [
    "# Notes on Open-Images-2019-Object-Detection"
   ]
  },
  {
   "cell_type": "markdown",
   "metadata": {},
   "source": [
    "# Introduction\n",
    "##### Google research launched the competion Open Images 2019 Object Detection on Kaggle on 06/03/2019 following its previous pair of competitions hosted in 2018. This competition built an ideal platform for people interested in ML/DL/CV to get some good insights into the latest technologies used in relative academic/industrial fields and offered a great opportunity to play with real-world large-scale image dataset. <br>This public notebook & repository is to collect and summarize relative online public notes/code implementations/research papers as well as my personal ipython notebook and results for the purpose of recording, sharing as well as self-monitoring. Any questions, suggestions or supplementations are welcomed!\n",
    "2019 competition link: https://www.kaggle.com/c/open-images-2019-object-detection/overview/description\n",
    "sibling competition link: https://www.kaggle.com/c/open-images-2019-visual-relationship\n",
    "Data source link: https://github.com/cvdfoundation/open-images-dataset#download-images-with-bounding-boxes-annotations\n",
    "\n",
    "2018 competition link: https://www.kaggle.com/c/google-ai-open-images-object-detection-track\n",
    "2018 sibling competition link: https://www.kaggle.com/c/google-ai-open-images-visual-relationship-track"
   ]
  },
  {
   "cell_type": "code",
   "execution_count": null,
   "metadata": {},
   "outputs": [],
   "source": [
    "### Using ResNet50\n",
    "link: https://www.kaggle.com/shivamb/objects-bounding-boxes-using-resnet50-imageai"
   ]
  },
  {
   "cell_type": "markdown",
   "metadata": {},
   "source": [
    "#### 2018_2nd_place_solution_paper(512 gpus) : https://arxiv.org/pdf/1809.00778.pdf"
   ]
  }
 ],
 "metadata": {
  "kernelspec": {
   "display_name": "py36",
   "language": "python",
   "name": "py36"
  },
  "language_info": {
   "codemirror_mode": {
    "name": "ipython",
    "version": 3
   },
   "file_extension": ".py",
   "mimetype": "text/x-python",
   "name": "python",
   "nbconvert_exporter": "python",
   "pygments_lexer": "ipython3",
   "version": "3.6.8"
  }
 },
 "nbformat": 4,
 "nbformat_minor": 2
}
